{
 "cells": [
  {
   "cell_type": "markdown",
   "metadata": {},
   "source": [
    "### Algorithm Comparision"
   ]
  },
  {
   "cell_type": "markdown",
   "metadata": {},
   "source": [
    "**Question 1**\n",
    "\n",
    "Given a hypothesis for comparision of two algorithms - A and B whose execution time follows certain arbitary distribution, what are the robust methodologies to rank A and B?\n",
    "\n",
    ">> Robustness $\\implies $ Reliability and confidence (here we first assume the limiting case, i.e infinite sample size)\n",
    "\n",
    "\n",
    "**Question 2**\n",
    "\n",
    "What is the optimum sample size required to make robust comparisions?\n",
    "\n",
    ">> Reliability experiment for specific case -- Capturing the variance for general case? (DOE)"
   ]
  },
  {
   "cell_type": "markdown",
   "metadata": {},
   "source": [
    "### Hypothesis and methodology\n",
    "\n",
    "Algorithms, Hypothesis and methodologies define hypothesis selection"
   ]
  },
  {
   "cell_type": "code",
   "execution_count": null,
   "metadata": {},
   "outputs": [],
   "source": []
  }
 ],
 "metadata": {
  "kernelspec": {
   "display_name": "Python 3",
   "language": "python",
   "name": "python3"
  },
  "language_info": {
   "codemirror_mode": {
    "name": "ipython",
    "version": 3
   },
   "file_extension": ".py",
   "mimetype": "text/x-python",
   "name": "python",
   "nbconvert_exporter": "python",
   "pygments_lexer": "ipython3",
   "version": "3.6.8"
  }
 },
 "nbformat": 4,
 "nbformat_minor": 2
}
